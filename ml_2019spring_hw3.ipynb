{
  "nbformat": 4,
  "nbformat_minor": 0,
  "metadata": {
    "colab": {
      "name": "ml_2019spring_hw3.ipynb",
      "provenance": [],
      "collapsed_sections": [],
      "toc_visible": true,
      "authorship_tag": "ABX9TyOiAkF0s6h//IMRMbwTuBuV",
      "include_colab_link": true
    },
    "kernelspec": {
      "name": "python3",
      "display_name": "Python 3"
    },
    "accelerator": "GPU"
  },
  "cells": [
    {
      "cell_type": "markdown",
      "metadata": {
        "id": "view-in-github",
        "colab_type": "text"
      },
      "source": [
        "<a href=\"https://colab.research.google.com/github/linlih/ML_By_NTU_Hung-yi-Lee/blob/master/ml_2019spring_hw3.ipynb\" target=\"_parent\"><img src=\"https://colab.research.google.com/assets/colab-badge.svg\" alt=\"Open In Colab\"/></a>"
      ]
    },
    {
      "cell_type": "markdown",
      "metadata": {
        "id": "4eFbWSrjnVVy",
        "colab_type": "text"
      },
      "source": [
        "# 作业说明"
      ]
    },
    {
      "cell_type": "markdown",
      "metadata": {
        "id": "DOEG3abxnZY-",
        "colab_type": "text"
      },
      "source": [
        "投影片： https://docs.google.com/presentation/d/1_UOEquMW4URIuTtrKGqwSPP4qtKIb7osT9ysTQ3Flmo/edit#slide=id.p\n",
        "\n",
        "Kaggle地址：https://www.kaggle.com/c/ml2019spring-hw3\n",
        "\n",
        "任务：给定图片的信息，确定图片的表情：0：生氣, 1：厭惡, 2：恐懼, 3：高興, 4：難過, 5：驚訝, 6：中立\n",
        "\n",
        "要求，使用CNN model"
      ]
    },
    {
      "cell_type": "markdown",
      "metadata": {
        "id": "ia6ZeNyKoTK7",
        "colab_type": "text"
      },
      "source": [
        "# 下载数据"
      ]
    },
    {
      "cell_type": "code",
      "metadata": {
        "id": "QBzi-pWqmum0",
        "colab_type": "code",
        "outputId": "ed47b26e-0114-4ef7-a3c2-53947552c958",
        "colab": {
          "base_uri": "https://localhost:8080/",
          "height": 34
        }
      },
      "source": [
        "!mkdir -p ~/.kaggle\n",
        "!cp kaggle.json ~/.kaggle/\n",
        "!chmod 600 ~/.kaggle/kaggle.json\n",
        "!ls ~/.kaggle"
      ],
      "execution_count": 3,
      "outputs": [
        {
          "output_type": "stream",
          "text": [
            "kaggle.json\n"
          ],
          "name": "stdout"
        }
      ]
    },
    {
      "cell_type": "code",
      "metadata": {
        "id": "up1qhIF6oO10",
        "colab_type": "code",
        "outputId": "1f815fb1-e54e-467c-8acd-03ec2976a2db",
        "colab": {
          "base_uri": "https://localhost:8080/",
          "height": 185
        }
      },
      "source": [
        "!kaggle competitions download -c ml2019spring-hw3"
      ],
      "execution_count": 6,
      "outputs": [
        {
          "output_type": "stream",
          "text": [
            "Warning: Looks like you're using an outdated API Version, please consider updating (server 1.5.6 / client 1.5.4)\n",
            "Downloading train.csv.zip to /content\n",
            " 97% 75.0M/77.2M [00:01<00:00, 67.0MB/s]\n",
            "100% 77.2M/77.2M [00:01<00:00, 69.4MB/s]\n",
            "Downloading test.csv.zip to /content\n",
            " 47% 9.00M/19.3M [00:01<00:01, 6.97MB/s]\n",
            "100% 19.3M/19.3M [00:01<00:00, 12.9MB/s]\n",
            "Downloading sample.csv to /content\n",
            "  0% 0.00/48.0k [00:00<?, ?B/s]\n",
            "100% 48.0k/48.0k [00:00<00:00, 40.6MB/s]\n"
          ],
          "name": "stdout"
        }
      ]
    },
    {
      "cell_type": "code",
      "metadata": {
        "id": "gvh5KXxkoni8",
        "colab_type": "code",
        "outputId": "3cf34658-721f-4816-81cf-a3439418d813",
        "colab": {
          "base_uri": "https://localhost:8080/",
          "height": 84
        }
      },
      "source": [
        "!unzip test.csv.zip\n",
        "!unzip train.csv.zip"
      ],
      "execution_count": 7,
      "outputs": [
        {
          "output_type": "stream",
          "text": [
            "Archive:  test.csv.zip\n",
            "  inflating: test.csv                \n",
            "Archive:  train.csv.zip\n",
            "  inflating: train.csv               \n"
          ],
          "name": "stdout"
        }
      ]
    },
    {
      "cell_type": "markdown",
      "metadata": {
        "id": "HJc1XU2LnUj7",
        "colab_type": "text"
      },
      "source": [
        "# 数据处理"
      ]
    },
    {
      "cell_type": "code",
      "metadata": {
        "id": "EKnwGD41ov5q",
        "colab_type": "code",
        "colab": {}
      },
      "source": [
        "import numpy as np\n",
        "import pandas as pd\n",
        "data = pd.read_csv('train.csv')"
      ],
      "execution_count": 0,
      "outputs": []
    },
    {
      "cell_type": "code",
      "metadata": {
        "id": "So6oKCEjo3AU",
        "colab_type": "code",
        "outputId": "60010c5c-f42f-4d9c-fd23-ca1f3358c165",
        "colab": {
          "base_uri": "https://localhost:8080/",
          "height": 67
        }
      },
      "source": [
        "data.iloc[0]"
      ],
      "execution_count": 5,
      "outputs": [
        {
          "output_type": "execute_result",
          "data": {
            "text/plain": [
              "label                                                      0\n",
              "feature    70 80 82 72 58 58 60 63 54 58 60 48 89 115 121...\n",
              "Name: 0, dtype: object"
            ]
          },
          "metadata": {
            "tags": []
          },
          "execution_count": 5
        }
      ]
    },
    {
      "cell_type": "code",
      "metadata": {
        "id": "zaDeaMnCGJ1S",
        "colab_type": "code",
        "colab": {}
      },
      "source": [
        "x = np.zeros((data.shape[0], 48*48), dtype=float)\n",
        "y = np.zeros(data.shape[0], dtype=int)\n",
        "\n",
        "for i in range(data.shape[0]):\n",
        "  x[i] = np.array(data['feature'][i].split()) # 48 * 48\n",
        "  y[i] = data['label'][i]"
      ],
      "execution_count": 0,
      "outputs": []
    },
    {
      "cell_type": "code",
      "metadata": {
        "id": "O2IM_6PZo4y7",
        "colab_type": "code",
        "colab": {}
      },
      "source": [
        "pic = np.array(data['feature'][0].split()).reshape(48,48) # 48 * 48"
      ],
      "execution_count": 0,
      "outputs": []
    },
    {
      "cell_type": "code",
      "metadata": {
        "id": "AaSEeuu8E7yb",
        "colab_type": "code",
        "colab": {
          "base_uri": "https://localhost:8080/",
          "height": 134
        },
        "outputId": "c63fd606-e83b-4b53-92f8-b5d722fa91de"
      },
      "source": [
        "x"
      ],
      "execution_count": 28,
      "outputs": [
        {
          "output_type": "execute_result",
          "data": {
            "text/plain": [
              "array([[ 70.,  80.,  82., ..., 106., 109.,  82.],\n",
              "       [151., 150., 147., ..., 193., 183., 184.],\n",
              "       [231., 212., 156., ...,  88., 110., 152.],\n",
              "       ...,\n",
              "       [ 74.,  81.,  87., ..., 188., 187., 187.],\n",
              "       [222., 227., 203., ..., 136., 136., 134.],\n",
              "       [195., 199., 205., ...,   6.,  15.,  38.]])"
            ]
          },
          "metadata": {
            "tags": []
          },
          "execution_count": 28
        }
      ]
    },
    {
      "cell_type": "code",
      "metadata": {
        "id": "n5BQQMKzpkVE",
        "colab_type": "code",
        "colab": {}
      },
      "source": [
        "import matplotlib.pyplot as plt"
      ],
      "execution_count": 0,
      "outputs": []
    },
    {
      "cell_type": "code",
      "metadata": {
        "id": "lKnk9qVErwOI",
        "colab_type": "code",
        "outputId": "4d08ddb8-6bcd-481e-929c-f318725d0acb",
        "colab": {
          "base_uri": "https://localhost:8080/",
          "height": 267
        }
      },
      "source": [
        "%matplotlib inline\n",
        "import matplotlib.image as mpimg\n",
        "from PIL import Image\n",
        "\n",
        "# fromarray的图片载入模式：https://pillow-zh-cn.readthedocs.io/zh_CN/latest/handbook/concepts.html#concept-modes\n",
        "im = Image.fromarray(np.uint8(pic), mode='P')\n",
        "plt.imshow(im)\n",
        "plt.show()"
      ],
      "execution_count": 0,
      "outputs": [
        {
          "output_type": "display_data",
          "data": {
            "image/png": "[encoded data removed]",
            "text/plain": [
              "<Figure size 432x288 with 1 Axes>"
            ]
          },
          "metadata": {
            "tags": []
          }
        }
      ]
    },
    {
      "cell_type": "markdown",
      "metadata": {
        "id": "Ro5oeKYJwAlO",
        "colab_type": "text"
      },
      "source": [
        "# 模型设计"
      ]
    },
    {
      "cell_type": "code",
      "metadata": {
        "id": "xNMVBoDRKfnU",
        "colab_type": "code",
        "colab": {}
      },
      "source": [
        "from keras import models\n",
        "from keras import layers\n",
        "from keras import optimizers\n",
        "from keras.utils.np_utils import to_categorical"
      ],
      "execution_count": 0,
      "outputs": []
    },
    {
      "cell_type": "code",
      "metadata": {
        "id": "5wEjWhavIcnn",
        "colab_type": "code",
        "colab": {}
      },
      "source": [
        "x_noraml = x/255\n",
        "x_train = x_noraml[:20000]\n",
        "x_val = x_noraml[20000:]\n",
        "\n",
        "y_1hot = to_categorical(y)\n",
        "y_val = y_1hot[20000:]\n",
        "y_train = y_1hot[:20000]"
      ],
      "execution_count": 0,
      "outputs": []
    },
    {
      "cell_type": "code",
      "metadata": {
        "id": "Z51h6lh-NWR7",
        "colab_type": "code",
        "colab": {
          "base_uri": "https://localhost:8080/",
          "height": 386
        },
        "outputId": "1c179762-5990-464d-c745-718cad632f52"
      },
      "source": [
        "model = models.Sequential()\n",
        "model.add(layers.Dense(128, activation='relu', input_shape=(48*48,)))\n",
        "model.add(layers.Dense(128, activation='relu'))\n",
        "model.add(layers.Dense(64, activation='relu'))\n",
        "model.add(layers.Dense(32, activation='relu'))\n",
        "model.add(layers.Dense(7, activation='softmax'))\n",
        "model.compile(optimizer=optimizers.RMSprop(lr=0.001),\n",
        "       loss='categorical_crossentropy',\n",
        "       metrics=['accuracy'])\n",
        "model.fit(x_train, y_train, epochs=10, batch_size=128, validation_data=(x_val, y_val))"
      ],
      "execution_count": 46,
      "outputs": [
        {
          "output_type": "stream",
          "text": [
            "Train on 20000 samples, validate on 8709 samples\n",
            "Epoch 1/10\n",
            "20000/20000 [==============================] - 2s 99us/step - loss: 1.8514 - accuracy: 0.2404 - val_loss: 1.8027 - val_accuracy: 0.2593\n",
            "Epoch 2/10\n",
            "20000/20000 [==============================] - 2s 92us/step - loss: 1.7923 - accuracy: 0.2586 - val_loss: 1.8045 - val_accuracy: 0.2887\n",
            "Epoch 3/10\n",
            "20000/20000 [==============================] - 2s 90us/step - loss: 1.7552 - accuracy: 0.2871 - val_loss: 1.7706 - val_accuracy: 0.2824\n",
            "Epoch 4/10\n",
            "20000/20000 [==============================] - 2s 100us/step - loss: 1.7277 - accuracy: 0.3092 - val_loss: 1.7405 - val_accuracy: 0.3251\n",
            "Epoch 5/10\n",
            "20000/20000 [==============================] - 2s 100us/step - loss: 1.7099 - accuracy: 0.3173 - val_loss: 1.8190 - val_accuracy: 0.2773\n",
            "Epoch 6/10\n",
            "20000/20000 [==============================] - 2s 100us/step - loss: 1.6941 - accuracy: 0.3300 - val_loss: 1.8669 - val_accuracy: 0.2712\n",
            "Epoch 7/10\n",
            "20000/20000 [==============================] - 2s 99us/step - loss: 1.6860 - accuracy: 0.3309 - val_loss: 1.7036 - val_accuracy: 0.3016\n",
            "Epoch 8/10\n",
            "20000/20000 [==============================] - 2s 99us/step - loss: 1.6680 - accuracy: 0.3419 - val_loss: 1.8553 - val_accuracy: 0.2370\n",
            "Epoch 9/10\n",
            "20000/20000 [==============================] - 2s 96us/step - loss: 1.6547 - accuracy: 0.3500 - val_loss: 1.8977 - val_accuracy: 0.2762\n",
            "Epoch 10/10\n",
            "20000/20000 [==============================] - 2s 94us/step - loss: 1.6451 - accuracy: 0.3521 - val_loss: 1.6521 - val_accuracy: 0.3601\n"
          ],
          "name": "stdout"
        },
        {
          "output_type": "execute_result",
          "data": {
            "text/plain": [
              "<keras.callbacks.callbacks.History at 0x7fd563d53e10>"
            ]
          },
          "metadata": {
            "tags": []
          },
          "execution_count": 46
        }
      ]
    },
    {
      "cell_type": "code",
      "metadata": {
        "id": "RiP8gI0dMi56",
        "colab_type": "code",
        "colab": {}
      },
      "source": [
        "from keras.utils.np_utils import to_categorical\n",
        "from keras.applications.resnet50 import ResNet50\n",
        "from keras.layers import Dense, GlobalAveragePooling2D\n",
        "from keras import Model\n",
        "from keras.optimizers import Adam\n",
        "\n",
        "y_1hot = to_categorical(y)\n",
        "y_val = y_1hot[20000:]\n",
        "y_train = y_1hot[:20000]\n",
        "\n",
        "x_noraml = x/255\n",
        "x_train = x_noraml[:20000]\n",
        "x_val = x_noraml[20000:]\n",
        "\n",
        "x_val = x_val.reshape(-1,48,48,1)\n",
        "x_train = x_train.reshape(-1,48,48,1)\n",
        "\n",
        "x_train = np.repeat(x_train, 3, -1)\n",
        "x_val = np.repeat(x_val, 3, -1)"
      ],
      "execution_count": 0,
      "outputs": []
    },
    {
      "cell_type": "code",
      "metadata": {
        "id": "fsrr39yPKJFN",
        "colab_type": "code",
        "colab": {
          "base_uri": "https://localhost:8080/",
          "height": 70
        },
        "outputId": "2ebd041c-d724-4625-9d56-b722df0d3c79"
      },
      "source": [
        "base_model = ResNet50(include_top=False,\n",
        "                 weights=\"imagenet\",\n",
        "                 input_shape=(48,48,3)\n",
        "                 )\n",
        "x = base_model.output\n",
        "x = GlobalAveragePooling2D()(x)\n",
        "x = Dropout(0.5)(x)\n",
        "predictions = Dense(7, activation= 'softmax')(x)\n",
        "model = Model(inputs = base_model.input, outputs = predictions)\n",
        "                 \n",
        "adam = Adam(lr=3e-4)\n",
        "\n",
        "model.compile(optimizer= adam, loss='categorical_crossentropy', metrics=['accuracy'])"
      ],
      "execution_count": 21,
      "outputs": [
        {
          "output_type": "stream",
          "text": [
            "/usr/local/lib/python3.6/dist-packages/keras_applications/resnet50.py:265: UserWarning: The output shape of `ResNet50(include_top=False)` has been changed since Keras 2.2.0.\n",
            "  warnings.warn('The output shape of `ResNet50(include_top=False)` '\n"
          ],
          "name": "stderr"
        }
      ]
    },
    {
      "cell_type": "code",
      "metadata": {
        "id": "Nn6_csZoPBUc",
        "colab_type": "code",
        "colab": {
          "base_uri": "https://localhost:8080/",
          "height": 34
        },
        "outputId": "b39ed95b-8a98-4022-d4f8-3606bd63add4"
      },
      "source": [
        "x_train.shape"
      ],
      "execution_count": 23,
      "outputs": [
        {
          "output_type": "execute_result",
          "data": {
            "text/plain": [
              "(20000, 48, 144)"
            ]
          },
          "metadata": {
            "tags": []
          },
          "execution_count": 23
        }
      ]
    },
    {
      "cell_type": "code",
      "metadata": {
        "id": "KEETJLgyN2a3",
        "colab_type": "code",
        "colab": {}
      },
      "source": [
        "model.fit(x_train, y_train, epochs=10, batch_size=128, validation_data=(x_val, y_val))"
      ],
      "execution_count": 0,
      "outputs": []
    }
  ]
}