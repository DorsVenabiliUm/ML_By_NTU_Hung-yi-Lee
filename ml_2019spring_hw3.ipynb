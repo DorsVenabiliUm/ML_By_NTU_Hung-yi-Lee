{
  "nbformat": 4,
  "nbformat_minor": 0,
  "metadata": {
    "colab": {
      "name": "ml_2019spring_hw3.ipynb",
      "provenance": [],
      "collapsed_sections": [],
      "authorship_tag": "ABX9TyNOsjhzpf4cYrB0WinhFSnK",
      "include_colab_link": true
    },
    "kernelspec": {
      "name": "python3",
      "display_name": "Python 3"
    },
    "accelerator": "GPU"
  },
  "cells": [
    {
      "cell_type": "markdown",
      "metadata": {
        "id": "view-in-github",
        "colab_type": "text"
      },
      "source": [
        "<a href=\"https://colab.research.google.com/github/linlih/ML_By_NTU_Hung-yi-Lee/blob/master/ml_2019spring_hw3.ipynb\" target=\"_parent\"><img src=\"https://colab.research.google.com/assets/colab-badge.svg\" alt=\"Open In Colab\"/></a>"
      ]
    },
    {
      "cell_type": "markdown",
      "metadata": {
        "id": "4eFbWSrjnVVy",
        "colab_type": "text"
      },
      "source": [
        "# 作业说明"
      ]
    },
    {
      "cell_type": "markdown",
      "metadata": {
        "id": "DOEG3abxnZY-",
        "colab_type": "text"
      },
      "source": [
        "投影片： https://docs.google.com/presentation/d/1_UOEquMW4URIuTtrKGqwSPP4qtKIb7osT9ysTQ3Flmo/edit#slide=id.p\n",
        "\n",
        "Kaggle地址：https://www.kaggle.com/c/ml2019spring-hw3\n",
        "\n",
        "任务：给定图片的信息，确定图片的表情：0：生氣, 1：厭惡, 2：恐懼, 3：高興, 4：難過, 5：驚訝, 6：中立\n",
        "\n",
        "要求，使用CNN model"
      ]
    },
    {
      "cell_type": "markdown",
      "metadata": {
        "id": "ia6ZeNyKoTK7",
        "colab_type": "text"
      },
      "source": [
        "# 下载数据"
      ]
    },
    {
      "cell_type": "code",
      "metadata": {
        "id": "QBzi-pWqmum0",
        "colab_type": "code",
        "outputId": "f095aa45-1e9f-4068-ca95-13d029788020",
        "colab": {
          "base_uri": "https://localhost:8080/",
          "height": 34
        }
      },
      "source": [
        "!mkdir -p ~/.kaggle\n",
        "!cp kaggle.json ~/.kaggle/\n",
        "!chmod 600 ~/.kaggle/kaggle.json\n",
        "!ls ~/.kaggle"
      ],
      "execution_count": 1,
      "outputs": [
        {
          "output_type": "stream",
          "text": [
            "kaggle.json\n"
          ],
          "name": "stdout"
        }
      ]
    },
    {
      "cell_type": "code",
      "metadata": {
        "id": "up1qhIF6oO10",
        "colab_type": "code",
        "outputId": "8bce5a64-88ff-487a-bda3-ea45eaaa6c54",
        "colab": {
          "base_uri": "https://localhost:8080/",
          "height": 205
        }
      },
      "source": [
        "!kaggle competitions download -c ml2019spring-hw3"
      ],
      "execution_count": 2,
      "outputs": [
        {
          "output_type": "stream",
          "text": [
            "Warning: Looks like you're using an outdated API Version, please consider updating (server 1.5.6 / client 1.5.4)\n",
            "Downloading train.csv.zip to /content\n",
            " 84% 65.0M/77.2M [00:01<00:00, 51.0MB/s]\n",
            "100% 77.2M/77.2M [00:01<00:00, 66.5MB/s]\n",
            "Downloading sample.csv to /content\n",
            "  0% 0.00/48.0k [00:00<?, ?B/s]\n",
            "100% 48.0k/48.0k [00:00<00:00, 50.4MB/s]\n",
            "Downloading test.csv.zip to /content\n",
            " 26% 5.00M/19.3M [00:00<00:01, 12.4MB/s]\n",
            "100% 19.3M/19.3M [00:00<00:00, 39.3MB/s]\n"
          ],
          "name": "stdout"
        }
      ]
    },
    {
      "cell_type": "code",
      "metadata": {
        "id": "gvh5KXxkoni8",
        "colab_type": "code",
        "outputId": "abc083e3-d3ee-4ac2-dd85-43b4a117145e",
        "colab": {
          "base_uri": "https://localhost:8080/",
          "height": 84
        }
      },
      "source": [
        "!unzip test.csv.zip\n",
        "!unzip train.csv.zip"
      ],
      "execution_count": 3,
      "outputs": [
        {
          "output_type": "stream",
          "text": [
            "Archive:  test.csv.zip\n",
            "  inflating: test.csv                \n",
            "Archive:  train.csv.zip\n",
            "  inflating: train.csv               \n"
          ],
          "name": "stdout"
        }
      ]
    },
    {
      "cell_type": "markdown",
      "metadata": {
        "id": "HJc1XU2LnUj7",
        "colab_type": "text"
      },
      "source": [
        "# 数据处理"
      ]
    },
    {
      "cell_type": "code",
      "metadata": {
        "id": "EKnwGD41ov5q",
        "colab_type": "code",
        "colab": {}
      },
      "source": [
        "import numpy as np\n",
        "import pandas as pd\n",
        "data = pd.read_csv('train.csv')"
      ],
      "execution_count": 0,
      "outputs": []
    },
    {
      "cell_type": "code",
      "metadata": {
        "id": "So6oKCEjo3AU",
        "colab_type": "code",
        "outputId": "95c5c8d9-c2bc-483a-e1b8-57b5206b4514",
        "colab": {
          "base_uri": "https://localhost:8080/",
          "height": 67
        }
      },
      "source": [
        "data.iloc[0]"
      ],
      "execution_count": 5,
      "outputs": [
        {
          "output_type": "execute_result",
          "data": {
            "text/plain": [
              "label                                                      0\n",
              "feature    70 80 82 72 58 58 60 63 54 58 60 48 89 115 121...\n",
              "Name: 0, dtype: object"
            ]
          },
          "metadata": {
            "tags": []
          },
          "execution_count": 5
        }
      ]
    },
    {
      "cell_type": "code",
      "metadata": {
        "id": "zaDeaMnCGJ1S",
        "colab_type": "code",
        "colab": {}
      },
      "source": [
        "x = np.zeros((data.shape[0], 48*48), dtype=float)\n",
        "y = np.zeros(data.shape[0], dtype=int)\n",
        "\n",
        "for i in range(data.shape[0]):\n",
        "  x[i] = np.array(data['feature'][i].split()) # 48 * 48\n",
        "  y[i] = data['label'][i]"
      ],
      "execution_count": 0,
      "outputs": []
    },
    {
      "cell_type": "code",
      "metadata": {
        "id": "O2IM_6PZo4y7",
        "colab_type": "code",
        "colab": {}
      },
      "source": [
        "pic = np.array(data['feature'][0].split()).reshape(48,48) # 48 * 48"
      ],
      "execution_count": 0,
      "outputs": []
    },
    {
      "cell_type": "code",
      "metadata": {
        "id": "AaSEeuu8E7yb",
        "colab_type": "code",
        "outputId": "c63fd606-e83b-4b53-92f8-b5d722fa91de",
        "colab": {
          "base_uri": "https://localhost:8080/",
          "height": 134
        }
      },
      "source": [
        "x"
      ],
      "execution_count": 0,
      "outputs": [
        {
          "output_type": "execute_result",
          "data": {
            "text/plain": [
              "array([[ 70.,  80.,  82., ..., 106., 109.,  82.],\n",
              "       [151., 150., 147., ..., 193., 183., 184.],\n",
              "       [231., 212., 156., ...,  88., 110., 152.],\n",
              "       ...,\n",
              "       [ 74.,  81.,  87., ..., 188., 187., 187.],\n",
              "       [222., 227., 203., ..., 136., 136., 134.],\n",
              "       [195., 199., 205., ...,   6.,  15.,  38.]])"
            ]
          },
          "metadata": {
            "tags": []
          },
          "execution_count": 28
        }
      ]
    },
    {
      "cell_type": "code",
      "metadata": {
        "id": "n5BQQMKzpkVE",
        "colab_type": "code",
        "colab": {}
      },
      "source": [
        "import matplotlib.pyplot as plt"
      ],
      "execution_count": 0,
      "outputs": []
    },
    {
      "cell_type": "code",
      "metadata": {
        "id": "lKnk9qVErwOI",
        "colab_type": "code",
        "outputId": "4d08ddb8-6bcd-481e-929c-f318725d0acb",
        "colab": {
          "base_uri": "https://localhost:8080/",
          "height": 267
        }
      },
      "source": [
        "%matplotlib inline\n",
        "import matplotlib.image as mpimg\n",
        "from PIL import Image\n",
        "\n",
        "# fromarray的图片载入模式：https://pillow-zh-cn.readthedocs.io/zh_CN/latest/handbook/concepts.html#concept-modes\n",
        "im = Image.fromarray(np.uint8(pic), mode='P')\n",
        "plt.imshow(im)\n",
        "plt.show()"
      ],
      "execution_count": 0,
      "outputs": [
        {
          "output_type": "display_data",
          "data": {
            "image/png": "[encoded data removed]",
            "text/plain": [
              "<Figure size 432x288 with 1 Axes>"
            ]
          },
          "metadata": {
            "tags": []
          }
        }
      ]
    },
    {
      "cell_type": "markdown",
      "metadata": {
        "id": "Ro5oeKYJwAlO",
        "colab_type": "text"
      },
      "source": [
        "# 模型设计"
      ]
    },
    {
      "cell_type": "code",
      "metadata": {
        "id": "xNMVBoDRKfnU",
        "colab_type": "code",
        "outputId": "69dac5d4-4aee-4687-cefb-baf1f08a623e",
        "colab": {
          "base_uri": "https://localhost:8080/",
          "height": 34
        }
      },
      "source": [
        "from keras import models\n",
        "from keras import layers\n",
        "from keras import optimizers\n",
        "from keras.utils.np_utils import to_categorical"
      ],
      "execution_count": 7,
      "outputs": [
        {
          "output_type": "stream",
          "text": [
            "Using TensorFlow backend.\n"
          ],
          "name": "stderr"
        }
      ]
    },
    {
      "cell_type": "code",
      "metadata": {
        "id": "5wEjWhavIcnn",
        "colab_type": "code",
        "colab": {}
      },
      "source": [
        "x_noraml = x/255\n",
        "x_train = x_noraml[:20000]\n",
        "x_val = x_noraml[20000:]\n",
        "\n",
        "y_1hot = to_categorical(y)\n",
        "y_val = y_1hot[20000:]\n",
        "y_train = y_1hot[:20000]"
      ],
      "execution_count": 0,
      "outputs": []
    },
    {
      "cell_type": "code",
      "metadata": {
        "id": "rK_NNYYYOcLC",
        "colab_type": "code",
        "colab": {}
      },
      "source": [
        "x_train = x_train.reshape(20000, 48, 48, 1)\n",
        "x_val = x_val.reshape(-1, 48, 48, 1)"
      ],
      "execution_count": 0,
      "outputs": []
    },
    {
      "cell_type": "code",
      "metadata": {
        "id": "Z51h6lh-NWR7",
        "colab_type": "code",
        "outputId": "c1ade884-3fdf-4286-bd14-0024883652ae",
        "colab": {
          "base_uri": "https://localhost:8080/",
          "height": 406
        }
      },
      "source": [
        "model = models.Sequential()\n",
        "model.add(layers.Conv2D(256, (3, 3), activation='relu', input_shape=(48, 48, 1)))\n",
        "model.add(layers.MaxPooling2D((2, 2)))\n",
        "model.add(layers.Conv2D(128, (3, 3), activation='relu'))\n",
        "model.add(layers.MaxPooling2D((2, 2)))\n",
        "model.add(layers.Conv2D(64, (3, 3), activation='relu'))\n",
        "model.add(layers.MaxPooling2D((2, 2))) \n",
        "model.add(layers.Conv2D(32, (3, 3), activation='relu'))\n",
        "model.add(layers.Flatten())\n",
        "model.add(layers.Dense(32, activation='relu'))\n",
        "model.add(layers.Dense(7, activation='softmax'))\n",
        "model.compile(optimizer=optimizers.RMSprop(lr=0.001),\n",
        "       loss='categorical_crossentropy',\n",
        "       metrics=['accuracy'])\n",
        "model.fit(x_train, y_train, epochs=10, batch_size=128, validation_data=(x_val, y_val))"
      ],
      "execution_count": 25,
      "outputs": [
        {
          "output_type": "stream",
          "text": [
            "Train on 20000 samples, validate on 8709 samples\n",
            "Epoch 1/10\n",
            "20000/20000 [==============================] - 5s 229us/step - loss: 4.8347 - accuracy: 0.2419 - val_loss: 1.8112 - val_accuracy: 0.2534\n",
            "Epoch 2/10\n",
            "20000/20000 [==============================] - 4s 222us/step - loss: 1.8535 - accuracy: 0.2483 - val_loss: 1.8054 - val_accuracy: 0.2544\n",
            "Epoch 3/10\n",
            "20000/20000 [==============================] - 4s 222us/step - loss: 1.7682 - accuracy: 0.2670 - val_loss: 1.7181 - val_accuracy: 0.3132\n",
            "Epoch 4/10\n",
            "20000/20000 [==============================] - 4s 224us/step - loss: 1.6679 - accuracy: 0.3323 - val_loss: 1.6027 - val_accuracy: 0.3618\n",
            "Epoch 5/10\n",
            "20000/20000 [==============================] - 4s 223us/step - loss: 1.5917 - accuracy: 0.3717 - val_loss: 1.6038 - val_accuracy: 0.3711\n",
            "Epoch 6/10\n",
            "20000/20000 [==============================] - 4s 222us/step - loss: 1.5411 - accuracy: 0.3929 - val_loss: 1.5404 - val_accuracy: 0.3950\n",
            "Epoch 7/10\n",
            "20000/20000 [==============================] - 4s 221us/step - loss: 1.5074 - accuracy: 0.4058 - val_loss: 1.5789 - val_accuracy: 0.3833\n",
            "Epoch 8/10\n",
            "20000/20000 [==============================] - 4s 222us/step - loss: 1.4824 - accuracy: 0.4208 - val_loss: 1.5027 - val_accuracy: 0.4167\n",
            "Epoch 9/10\n",
            "20000/20000 [==============================] - 4s 221us/step - loss: 1.4550 - accuracy: 0.4286 - val_loss: 1.5093 - val_accuracy: 0.4068\n",
            "Epoch 10/10\n",
            "20000/20000 [==============================] - 4s 222us/step - loss: 1.4400 - accuracy: 0.4390 - val_loss: 1.4818 - val_accuracy: 0.4222\n"
          ],
          "name": "stdout"
        },
        {
          "output_type": "execute_result",
          "data": {
            "text/plain": [
              "<keras.callbacks.callbacks.History at 0x7f25b8f40940>"
            ]
          },
          "metadata": {
            "tags": []
          },
          "execution_count": 25
        }
      ]
    },
    {
      "cell_type": "code",
      "metadata": {
        "id": "RiP8gI0dMi56",
        "colab_type": "code",
        "colab": {}
      },
      "source": [
        "from keras.utils.np_utils import to_categorical\n",
        "from keras.applications.resnet50 import ResNet50\n",
        "from keras.layers import Dense, GlobalAveragePooling2D, Dropout\n",
        "from keras import Model\n",
        "from keras.optimizers import Adam\n",
        "\n",
        "y_1hot = to_categorical(y)\n",
        "y_val = y_1hot[20000:]\n",
        "y_train = y_1hot[:20000]\n",
        "\n",
        "x_noraml = x/255\n",
        "x_train = x_noraml[:20000]\n",
        "x_val = x_noraml[20000:]\n",
        "\n",
        "x_val = x_val.reshape(-1,48,48,1)\n",
        "x_train = x_train.reshape(-1,48,48,1)\n",
        "\n",
        "x_train = np.repeat(x_train, 3, -1)\n",
        "x_val = np.repeat(x_val, 3, -1)"
      ],
      "execution_count": 0,
      "outputs": []
    },
    {
      "cell_type": "code",
      "metadata": {
        "id": "fsrr39yPKJFN",
        "colab_type": "code",
        "outputId": "b9680696-6870-400d-ea43-578f8129ba0f",
        "colab": {
          "base_uri": "https://localhost:8080/",
          "height": 70
        }
      },
      "source": [
        "base_model = ResNet50(include_top=False,\n",
        "                 weights=\"imagenet\",\n",
        "                 input_shape=(48,48,3)\n",
        "                 )\n",
        "x = base_model.output\n",
        "x = GlobalAveragePooling2D()(x)\n",
        "x = Dropout(0.5)(x)\n",
        "predictions = Dense(7, activation= 'softmax')(x)\n",
        "model = Model(inputs = base_model.input, outputs = predictions)\n",
        "                 \n",
        "adam = Adam(lr=3e-4)\n",
        "\n",
        "model.compile(optimizer= adam, loss='categorical_crossentropy', metrics=['accuracy'])"
      ],
      "execution_count": 0,
      "outputs": [
        {
          "output_type": "stream",
          "text": [
            "/usr/local/lib/python3.6/dist-packages/keras_applications/resnet50.py:265: UserWarning: The output shape of `ResNet50(include_top=False)` has been changed since Keras 2.2.0.\n",
            "  warnings.warn('The output shape of `ResNet50(include_top=False)` '\n"
          ],
          "name": "stderr"
        }
      ]
    },
    {
      "cell_type": "code",
      "metadata": {
        "id": "Nn6_csZoPBUc",
        "colab_type": "code",
        "outputId": "956c16b1-4bf1-4b7f-b350-8c03dc2f86fe",
        "colab": {
          "base_uri": "https://localhost:8080/",
          "height": 286
        }
      },
      "source": [
        "!nvidia-smi"
      ],
      "execution_count": 0,
      "outputs": [
        {
          "output_type": "stream",
          "text": [
            "Sat Apr 18 10:04:50 2020       \n",
            "+-----------------------------------------------------------------------------+\n",
            "| NVIDIA-SMI 440.64.00    Driver Version: 418.67       CUDA Version: 10.1     |\n",
            "|-------------------------------+----------------------+----------------------+\n",
            "| GPU  Name        Persistence-M| Bus-Id        Disp.A | Volatile Uncorr. ECC |\n",
            "| Fan  Temp  Perf  Pwr:Usage/Cap|         Memory-Usage | GPU-Util  Compute M. |\n",
            "|===============================+======================+======================|\n",
            "|   0  Tesla T4            Off  | 00000000:00:04.0 Off |                    0 |\n",
            "| N/A   67C    P0    30W /  70W |    475MiB / 15079MiB |      0%      Default |\n",
            "+-------------------------------+----------------------+----------------------+\n",
            "                                                                               \n",
            "+-----------------------------------------------------------------------------+\n",
            "| Processes:                                                       GPU Memory |\n",
            "|  GPU       PID   Type   Process name                             Usage      |\n",
            "|=============================================================================|\n",
            "+-----------------------------------------------------------------------------+\n"
          ],
          "name": "stdout"
        }
      ]
    },
    {
      "cell_type": "code",
      "metadata": {
        "id": "KEETJLgyN2a3",
        "colab_type": "code",
        "outputId": "75cb733f-7cc1-44d0-efaa-124dca42409c",
        "colab": {
          "base_uri": "https://localhost:8080/",
          "height": 386
        }
      },
      "source": [
        "model.fit(x_train, y_train, epochs=10, batch_size=128, validation_data=(x_val, y_val))"
      ],
      "execution_count": 0,
      "outputs": [
        {
          "output_type": "stream",
          "text": [
            "Train on 20000 samples, validate on 8709 samples\n",
            "Epoch 1/10\n",
            "20000/20000 [==============================] - 55s 3ms/step - loss: 1.7200 - accuracy: 0.3866 - val_loss: 2.1286 - val_accuracy: 0.1691\n",
            "Epoch 2/10\n",
            "20000/20000 [==============================] - 32s 2ms/step - loss: 1.1397 - accuracy: 0.5745 - val_loss: 2.0346 - val_accuracy: 0.1369\n",
            "Epoch 3/10\n",
            "20000/20000 [==============================] - 32s 2ms/step - loss: 0.8433 - accuracy: 0.6934 - val_loss: 1.9391 - val_accuracy: 0.1535\n",
            "Epoch 4/10\n",
            "20000/20000 [==============================] - 33s 2ms/step - loss: 0.6148 - accuracy: 0.7801 - val_loss: 1.9449 - val_accuracy: 0.2019\n",
            "Epoch 5/10\n",
            "20000/20000 [==============================] - 32s 2ms/step - loss: 0.4329 - accuracy: 0.8494 - val_loss: 1.7852 - val_accuracy: 0.4030\n",
            "Epoch 6/10\n",
            "20000/20000 [==============================] - 32s 2ms/step - loss: 0.3361 - accuracy: 0.8820 - val_loss: 1.7361 - val_accuracy: 0.5061\n",
            "Epoch 7/10\n",
            "20000/20000 [==============================] - 32s 2ms/step - loss: 0.2620 - accuracy: 0.9101 - val_loss: 1.8216 - val_accuracy: 0.5200\n",
            "Epoch 8/10\n",
            "20000/20000 [==============================] - 32s 2ms/step - loss: 0.2114 - accuracy: 0.9285 - val_loss: 1.8254 - val_accuracy: 0.5801\n",
            "Epoch 9/10\n",
            "20000/20000 [==============================] - 33s 2ms/step - loss: 0.1723 - accuracy: 0.9421 - val_loss: 1.7585 - val_accuracy: 0.5827\n",
            "Epoch 10/10\n",
            "20000/20000 [==============================] - 33s 2ms/step - loss: 0.1551 - accuracy: 0.9481 - val_loss: 1.8677 - val_accuracy: 0.5927\n"
          ],
          "name": "stdout"
        },
        {
          "output_type": "execute_result",
          "data": {
            "text/plain": [
              "<keras.callbacks.callbacks.History at 0x7f70f6953ef0>"
            ]
          },
          "metadata": {
            "tags": []
          },
          "execution_count": 8
        }
      ]
    },
    {
      "cell_type": "code",
      "metadata": {
        "id": "Cmf140k6v3gM",
        "colab_type": "code",
        "colab": {}
      },
      "source": [
        ""
      ],
      "execution_count": 0,
      "outputs": []
    }
  ]
}